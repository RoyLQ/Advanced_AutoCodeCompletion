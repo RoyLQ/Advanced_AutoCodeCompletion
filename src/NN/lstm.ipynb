{
  "nbformat": 4,
  "nbformat_minor": 0,
  "metadata": {
    "colab": {
      "name": "lstm_v4.ipynb",
      "provenance": [],
      "machine_shape": "hm"
    },
    "kernelspec": {
      "name": "python3",
      "display_name": "Python 3"
    },
    "language_info": {
      "name": "python"
    }
  },
  "cells": [
    {
      "cell_type": "code",
      "metadata": {
        "id": "PjWXG_RTjeL3"
      },
      "source": [
        "import data_prep\n",
        "import LSTM"
      ],
      "execution_count": 1,
      "outputs": []
    },
    {
      "cell_type": "code",
      "metadata": {
        "id": "TWGOd6cRkbUd"
      },
      "source": [
        "from keras import models, layers\n",
        "from keras.models import Sequential\n",
        "from keras.layers import Dense, LSTM, Dropout, Masking, Flatten, Input, RepeatVector\n",
        "from sklearn.model_selection import train_test_split"
      ],
      "execution_count": 2,
      "outputs": []
    },
    {
      "cell_type": "code",
      "metadata": {
        "id": "TLQlE7IMkrh3"
      },
      "source": [
        "x, y = data_prep.get_input_vectors_and_labels(\"NN_input.txt\", \"vector.csv\")"
      ],
      "execution_count": 3,
      "outputs": []
    },
    {
      "cell_type": "code",
      "metadata": {
        "id": "nsC5fLouksaf"
      },
      "source": [
        "# Separate data into training and test sets\n",
        "x_train, x_test, y_train, y_test = train_test_split(x, y, test_size=0.2, random_state=0)\n",
        "# Further separate the training data into training and validation data\n",
        "x_train, x_val, y_train, y_val = train_test_split(x_train, y_train, test_size=0.2, random_state=0)"
      ],
      "execution_count": 4,
      "outputs": []
    },
    {
      "cell_type": "code",
      "metadata": {
        "id": "dg07LJGYku0B"
      },
      "source": [
        "model = Sequential()\n",
        "\n",
        "model.add(Masking(mask_value= [0]*34, input_shape=x_train.shape[1:]))\n",
        "\n",
        "model.add(LSTM(3000, activation=\"relu\", input_shape=x_train.shape[1:], return_sequences=True ))\n",
        "model.add(Dropout(0.2))\n",
        "\n",
        "model.add(LSTM(3000, activation=\"relu\", input_shape=x_train.shape[1:], return_sequences=True ))\n",
        "model.add(Dropout(0.2))\n",
        "\n",
        "model.add(LSTM(3000, activation=\"relu\", input_shape=x_train.shape[1:], return_sequences=False ))\n",
        "model.add(Dropout(0.2))\n",
        "\n",
        "model.add(Dense(7374, activation=\"softmax\", input_shape=x_train.shape[1:]))\n",
        "\n",
        "model.compile(loss='mean_squared_error', optimizer='adam', metrics=['accuracy'])"
      ],
      "execution_count": 5,
      "outputs": []
    },
    {
      "cell_type": "code",
      "metadata": {
        "colab": {
          "base_uri": "https://localhost:8080/"
        },
        "id": "NStFrlzQlDB5",
        "outputId": "7a305adf-1a63-4023-cdeb-e4cff4d9267c"
      },
      "source": [
        "model.summary()"
      ],
      "execution_count": 6,
      "outputs": [
        {
          "output_type": "stream",
          "name": "stdout",
          "text": [
            "Model: \"sequential\"\n",
            "_________________________________________________________________\n",
            " Layer (type)                Output Shape              Param #   \n",
            "=================================================================\n",
            " masking (Masking)           (None, 15, 34)            0         \n",
            "                                                                 \n",
            " lstm (LSTM)                 (None, 15, 3000)          36420000  \n",
            "                                                                 \n",
            " dropout (Dropout)           (None, 15, 3000)          0         \n",
            "                                                                 \n",
            " lstm_1 (LSTM)               (None, 15, 3000)          72012000  \n",
            "                                                                 \n",
            " dropout_1 (Dropout)         (None, 15, 3000)          0         \n",
            "                                                                 \n",
            " lstm_2 (LSTM)               (None, 3000)              72012000  \n",
            "                                                                 \n",
            " dropout_2 (Dropout)         (None, 3000)              0         \n",
            "                                                                 \n",
            " dense (Dense)               (None, 7374)              22129374  \n",
            "                                                                 \n",
            "=================================================================\n",
            "Total params: 202,573,374\n",
            "Trainable params: 202,573,374\n",
            "Non-trainable params: 0\n",
            "_________________________________________________________________\n"
          ]
        }
      ]
    },
    {
      "cell_type": "markdown",
      "metadata": {
        "id": "pw0RgmuThEpp"
      },
      "source": [
        ""
      ]
    },
    {
      "cell_type": "code",
      "metadata": {
        "colab": {
          "base_uri": "https://localhost:8080/"
        },
        "id": "SJlDQVvYlXY3",
        "outputId": "7c5170db-d815-45ea-8993-18d529bea644"
      },
      "source": [
        "model.fit(x_train, y_train, epochs=4, validation_data=(x_val, y_val))"
      ],
      "execution_count": 7,
      "outputs": [
        {
          "output_type": "stream",
          "name": "stdout",
          "text": [
            "Epoch 1/4\n",
            "975/975 [==============================] - 11073s 11s/step - loss: 1.3559e-04 - accuracy: 0.0316 - val_loss: 1.3559e-04 - val_accuracy: 0.0639\n",
            "Epoch 2/4\n",
            "975/975 [==============================] - 10495s 11s/step - loss: 1.3559e-04 - accuracy: 0.0638 - val_loss: 1.3559e-04 - val_accuracy: 0.0639\n",
            "Epoch 3/4\n",
            "975/975 [==============================] - 11106s 11s/step - loss: 1.3559e-04 - accuracy: 0.0638 - val_loss: 1.3559e-04 - val_accuracy: 0.0639\n",
            "Epoch 4/4\n",
            "975/975 [==============================] - 11185s 11s/step - loss: 1.3559e-04 - accuracy: 0.0638 - val_loss: 1.3559e-04 - val_accuracy: 0.0639\n"
          ]
        },
        {
          "output_type": "execute_result",
          "data": {
            "text/plain": [
              "<keras.callbacks.History at 0x7f448daedb10>"
            ]
          },
          "metadata": {},
          "execution_count": 7
        }
      ]
    },
    {
      "cell_type": "code",
      "metadata": {
        "id": "tFpL8wvvlYqb"
      },
      "source": [
        "prediction = model.predict(x_test)"
      ],
      "execution_count": 12,
      "outputs": []
    },
    {
      "cell_type": "code",
      "metadata": {
        "id": "bADeq_krnqcE"
      },
      "source": [
        "import pandas as pd"
      ],
      "execution_count": 13,
      "outputs": []
    },
    {
      "cell_type": "markdown",
      "metadata": {
        "id": "kMqLJuHDimwN"
      },
      "source": [
        "Save predictions and labels to a file in case they get lost"
      ]
    },
    {
      "cell_type": "code",
      "metadata": {
        "id": "J-2RysH_mwrn"
      },
      "source": [
        "predict_df = pd.DataFrame(prediction,columns=[str(i) for i in range(1,7375)])\n",
        "predict_df.to_csv('predictions.csv')"
      ],
      "execution_count": 16,
      "outputs": []
    },
    {
      "cell_type": "code",
      "metadata": {
        "id": "Rr0N6yzKm8Q_"
      },
      "source": [
        "y_test_reshaped = y_test.reshape(9745, 7374)\n",
        "y_test_labels = pd.DataFrame(y_test_reshaped, columns=[str(i) for i in range(1,7375)])\n",
        "y_test_labels.to_csv('y_test_labels.csv')"
      ],
      "execution_count": 15,
      "outputs": []
    },
    {
      "cell_type": "code",
      "metadata": {
        "id": "WzbzuDVdU7AS"
      },
      "source": [
        "top_k = {1: 0, 5: 0, 10: 0, 20: 0}"
      ],
      "execution_count": 17,
      "outputs": []
    },
    {
      "cell_type": "code",
      "metadata": {
        "colab": {
          "base_uri": "https://localhost:8080/"
        },
        "id": "_TlXn894dSwv",
        "outputId": "01ceb478-f0f1-44ff-ade6-866113a6ec9b"
      },
      "source": [
        "print(len(y_test) == len(prediction))"
      ],
      "execution_count": 27,
      "outputs": [
        {
          "output_type": "stream",
          "name": "stdout",
          "text": [
            "True\n"
          ]
        }
      ]
    },
    {
      "cell_type": "code",
      "metadata": {
        "id": "DPi8dgAQcWX_"
      },
      "source": [
        "i = 0\n",
        "for vector in prediction:\n",
        "  # get the probability vector\n",
        "  prob_vec = list(vector).copy()\n",
        "  # make a copy of the prob. vector and sort it in desc. order\n",
        "  prob_vec_sorted = prob_vec.copy()\n",
        "  prob_vec_sorted.sort(reverse=True)\n",
        "  # get the indices of the top 20 probilities in the probability vector\n",
        "  top_20 = [ prob_vec.index(prob) for prob in prob_vec_sorted[:20] ]\n",
        "  # get the index corresponding to the true label\n",
        "  label = list(y_test[i][0]).index(1)\n",
        "\n",
        "  i += 1\n",
        "  if(label in top_20[:1]):\n",
        "    top_k[1]  += 1\n",
        "    top_k[5]  += 1\n",
        "    top_k[10] += 1\n",
        "    top_k[20] += 1\n",
        "    continue\n",
        "  elif(label in top_20[:5]):\n",
        "    top_k[5]  += 1\n",
        "    top_k[10] += 1\n",
        "    top_k[20] += 1\n",
        "    continue\n",
        "  elif(label in top_20[:10]):\n",
        "    top_k[10] += 1\n",
        "    top_k[20] += 1\n",
        "    continue\n",
        "  elif(label in top_20):\n",
        "    top_k[20] += 1\n",
        "\n"
      ],
      "execution_count": 36,
      "outputs": []
    },
    {
      "cell_type": "code",
      "metadata": {
        "colab": {
          "base_uri": "https://localhost:8080/"
        },
        "id": "rv1gUfe4eQfl",
        "outputId": "41421788-9892-4eb3-f04b-378123131171"
      },
      "source": [
        "top_k"
      ],
      "execution_count": 37,
      "outputs": [
        {
          "output_type": "execute_result",
          "data": {
            "text/plain": [
              "{1: 614, 5: 1120, 10: 1551, 20: 2129}"
            ]
          },
          "metadata": {},
          "execution_count": 37
        }
      ]
    },
    {
      "cell_type": "code",
      "metadata": {
        "colab": {
          "base_uri": "https://localhost:8080/"
        },
        "id": "n69nzntofs6H",
        "outputId": "f4b799d3-f9a8-4b6f-8a6c-4836772b2c80"
      },
      "source": [
        "len(y_test)"
      ],
      "execution_count": 38,
      "outputs": [
        {
          "output_type": "execute_result",
          "data": {
            "text/plain": [
              "9745"
            ]
          },
          "metadata": {},
          "execution_count": 38
        }
      ]
    },
    {
      "cell_type": "code",
      "metadata": {
        "colab": {
          "base_uri": "https://localhost:8080/"
        },
        "id": "yd_gpm9Efwzf",
        "outputId": "209d6aec-eb10-44c9-ba5b-bd9fceeb8f43"
      },
      "source": [
        "for key in top_k.keys():\n",
        "  accuracy = round(top_k[key]*100/len(y_test), 2)\n",
        "  print(f'Top-{key} : {accuracy}%')"
      ],
      "execution_count": 43,
      "outputs": [
        {
          "output_type": "stream",
          "name": "stdout",
          "text": [
            "Top-1 : 6.3%\n",
            "Top-5 : 11.49%\n",
            "Top-10 : 15.92%\n",
            "Top-20 : 21.85%\n"
          ]
        }
      ]
    }
  ]
}