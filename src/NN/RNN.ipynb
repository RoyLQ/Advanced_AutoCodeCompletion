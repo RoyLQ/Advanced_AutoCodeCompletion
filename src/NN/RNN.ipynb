{
 "cells": [
  {
   "cell_type": "code",
   "execution_count": 1,
   "metadata": {},
   "outputs": [],
   "source": [
    "from keras.models import Sequential\n",
    "from keras.layers import SimpleRNN, Dense, Masking, Dropout\n",
    "from sklearn.model_selection import train_test_split\n",
    "import pandas as pd\n",
    "import numpy as np"
   ]
  },
  {
   "cell_type": "code",
   "execution_count": 2,
   "metadata": {},
   "outputs": [],
   "source": [
    "inputs = []\n",
    "labels = []\n",
    "\n",
    "# Get the word embedding table as a df\n",
    "word_embedding_df = pd.read_csv(\"pca_lookup_table.csv\", header=None)\n",
    "\n",
    "file = open(\"NN_input.txt\")\n",
    "sequence_list = []\n",
    "for sequence in file:\n",
    "  sequence = [int(x) for x in sequence.strip().strip('][').split(',')]\n",
    "  sequence_list.append(sequence)\n",
    "file.close()\n",
    "\n",
    "for seq in sequence_list:\n",
    "  # Replace the current integer with its corresponding vector in the word embedding table if > 0,\n",
    "  # else use vector of all 0's\n",
    "  inputs.append([list(word_embedding_df.loc[val - 1]) if val > 0 else [0] * 34 for val in seq[:-1]])\n",
    "  # Store the last integer in each sequence as the label\n",
    "  # one-hot\n",
    "  labels.append([[1 if seq[-1] - 1 == i else 0 for i in range(7374)]])\n",
    "\n",
    "# Convert the inputs and labels to numpy arrays\n",
    "inputs = np.array(inputs, dtype=float)\n",
    "labels = np.array(labels, dtype=float)"
   ]
  },
  {
   "cell_type": "code",
   "execution_count": 3,
   "metadata": {},
   "outputs": [],
   "source": [
    "# Separate data into training and test sets\n",
    "x_train, x_test, y_train, y_test = train_test_split(inputs, labels, test_size=0.2, random_state=0)\n",
    "# Further separate the training data into training and validation data\n",
    "x_train, x_val, y_train, y_val = train_test_split(x_train, y_train, test_size=0.2, random_state=0)"
   ]
  },
  {
   "cell_type": "code",
   "execution_count": 4,
   "metadata": {},
   "outputs": [
    {
     "name": "stderr",
     "output_type": "stream",
     "text": [
      "2021-12-06 08:39:11.599027: I tensorflow/core/platform/cpu_feature_guard.cc:151] This TensorFlow binary is optimized with oneAPI Deep Neural Network Library (oneDNN) to use the following CPU instructions in performance-critical operations:  AVX2 FMA\n",
      "To enable them in other operations, rebuild TensorFlow with the appropriate compiler flags.\n"
     ]
    }
   ],
   "source": [
    "model = Sequential()\n",
    "\n",
    "model.add(Masking(mask_value=[0] * 34, input_shape=x_train.shape[1:]))\n",
    "\n",
    "model.add(SimpleRNN(3000, activation=\"relu\", input_shape=x_train.shape[1:], return_sequences=True))\n",
    "model.add(Dropout(0.2))\n",
    "\n",
    "model.add(SimpleRNN(3000, activation=\"relu\", input_shape=x_train.shape[1:], return_sequences=True))\n",
    "model.add(Dropout(0.2))\n",
    "\n",
    "model.add(SimpleRNN(3000, activation=\"relu\", input_shape=x_train.shape[1:], return_sequences=False))\n",
    "model.add(Dropout(0.2))\n",
    "\n",
    "model.add(Dense(7374, activation=\"softmax\", input_shape=x_train.shape[1:]))\n",
    "\n",
    "model.compile(loss='mean_squared_error', optimizer='adam', metrics=['accuracy'])"
   ]
  },
  {
   "cell_type": "code",
   "execution_count": 5,
   "metadata": {},
   "outputs": [
    {
     "name": "stdout",
     "output_type": "stream",
     "text": [
      "Model: \"sequential\"\n",
      "_________________________________________________________________\n",
      " Layer (type)                Output Shape              Param #   \n",
      "=================================================================\n",
      " masking (Masking)           (None, 15, 34)            0         \n",
      "                                                                 \n",
      " simple_rnn (SimpleRNN)      (None, 15, 3000)          9105000   \n",
      "                                                                 \n",
      " dropout (Dropout)           (None, 15, 3000)          0         \n",
      "                                                                 \n",
      " simple_rnn_1 (SimpleRNN)    (None, 15, 3000)          18003000  \n",
      "                                                                 \n",
      " dropout_1 (Dropout)         (None, 15, 3000)          0         \n",
      "                                                                 \n",
      " simple_rnn_2 (SimpleRNN)    (None, 3000)              18003000  \n",
      "                                                                 \n",
      " dropout_2 (Dropout)         (None, 3000)              0         \n",
      "                                                                 \n",
      " dense (Dense)               (None, 7374)              22129374  \n",
      "                                                                 \n",
      "=================================================================\n",
      "Total params: 67,240,374\n",
      "Trainable params: 67,240,374\n",
      "Non-trainable params: 0\n",
      "_________________________________________________________________\n"
     ]
    }
   ],
   "source": [
    "model.summary()"
   ]
  },
  {
   "cell_type": "code",
   "execution_count": 8,
   "metadata": {},
   "outputs": [
    {
     "name": "stdout",
     "output_type": "stream",
     "text": [
      "Epoch 1/10\n",
      "975/975 [==============================] - 1664s 2s/step - loss: 1.3559e-04 - accuracy: 0.0218 - val_loss: 1.3559e-04 - val_accuracy: 0.0639\n",
      "Epoch 2/10\n",
      "975/975 [==============================] - 1649s 2s/step - loss: 1.3558e-04 - accuracy: 0.0605 - val_loss: 1.3559e-04 - val_accuracy: 0.0634\n",
      "Epoch 3/10\n",
      "975/975 [==============================] - 1611s 2s/step - loss: 1.3559e-04 - accuracy: 0.0562 - val_loss: 1.3559e-04 - val_accuracy: 0.0639\n",
      "Epoch 4/10\n",
      "975/975 [==============================] - 1609s 2s/step - loss: 1.3559e-04 - accuracy: 0.0636 - val_loss: 1.3559e-04 - val_accuracy: 0.0639\n",
      "Epoch 5/10\n",
      "975/975 [==============================] - 1551s 2s/step - loss: 1.3559e-04 - accuracy: 0.0638 - val_loss: 1.3559e-04 - val_accuracy: 0.0639\n",
      "Epoch 6/10\n",
      "975/975 [==============================] - 1555s 2s/step - loss: 1.3559e-04 - accuracy: 0.0637 - val_loss: 1.3559e-04 - val_accuracy: 0.0639\n",
      "Epoch 7/10\n",
      "975/975 [==============================] - 1552s 2s/step - loss: 1.3559e-04 - accuracy: 0.0638 - val_loss: 1.3559e-04 - val_accuracy: 0.0639\n",
      "Epoch 8/10\n",
      "975/975 [==============================] - 1554s 2s/step - loss: 1.3559e-04 - accuracy: 0.0638 - val_loss: 1.3559e-04 - val_accuracy: 0.0639\n",
      "Epoch 9/10\n",
      "975/975 [==============================] - 1556s 2s/step - loss: 1.3558e-04 - accuracy: 0.0638 - val_loss: 1.3559e-04 - val_accuracy: 0.0639\n",
      "Epoch 10/10\n",
      "975/975 [==============================] - 1553s 2s/step - loss: 1.3559e-04 - accuracy: 0.0638 - val_loss: 1.3559e-04 - val_accuracy: 0.0639\n"
     ]
    },
    {
     "data": {
      "text/plain": [
       "<keras.callbacks.History at 0x7ff4d4d8b790>"
      ]
     },
     "execution_count": 8,
     "metadata": {},
     "output_type": "execute_result"
    }
   ],
   "source": [
    "model.fit(x_train, y_train, epochs=10, validation_data=(x_val, y_val))"
   ]
  },
  {
   "cell_type": "code",
   "execution_count": 9,
   "metadata": {},
   "outputs": [],
   "source": [
    "pred = model.predict(x_test)"
   ]
  },
  {
   "cell_type": "code",
   "execution_count": 13,
   "metadata": {},
   "outputs": [],
   "source": [
    "pred_df = pd.DataFrame(pred, columns=[str(i) for i in range(1, 7375)])\n",
    "pred_df.to_csv('RNN_pred.csv')"
   ]
  },
  {
   "cell_type": "code",
   "execution_count": 14,
   "metadata": {},
   "outputs": [],
   "source": [
    "y_test_reshaped = y_test.reshape(9745, 7374)\n",
    "y_test_labels = pd.DataFrame(y_test_reshaped, columns=[str(i) for i in range(1, 7375)])\n",
    "y_test_labels.to_csv('RNN_y_test_labels.csv')"
   ]
  },
  {
   "cell_type": "code",
   "execution_count": 15,
   "metadata": {},
   "outputs": [],
   "source": [
    "top_k = {1:0, 5:0, 10:0, 20:0}"
   ]
  },
  {
   "cell_type": "code",
   "execution_count": 17,
   "metadata": {},
   "outputs": [],
   "source": [
    "i = 0\n",
    "for vector in pred:\n",
    "  prob_vec = list(vector).copy()\n",
    "\n",
    "  prob_vec_sorted = prob_vec.copy()\n",
    "  prob_vec_sorted.sort(reverse=True)\n",
    "\n",
    "  top_20 = [prob_vec.index(prob) for prob in prob_vec_sorted[:20]]\n",
    "\n",
    "  label = list(y_test[i][0]).index(1)\n",
    "\n",
    "  i += 1\n",
    "  if(label in top_20[:1]):\n",
    "    top_k[1] += 1\n",
    "    top_k[5] += 1\n",
    "    top_k[10] += 1\n",
    "    top_k[20] += 1\n",
    "  elif(label in top_20[:5]):\n",
    "    top_k[5] += 1\n",
    "    top_k[10] += 1\n",
    "    top_k[20] += 1\n",
    "  elif(label in top_20[:10]):\n",
    "    top_k[10] += 1\n",
    "    top_k[20] += 1\n",
    "  elif(label in top_20[:20]):\n",
    "    top_k[20] += 1"
   ]
  },
  {
   "cell_type": "code",
   "execution_count": 18,
   "metadata": {},
   "outputs": [
    {
     "data": {
      "text/plain": [
       "{1: 613, 5: 1127, 10: 1506, 20: 2012}"
      ]
     },
     "execution_count": 18,
     "metadata": {},
     "output_type": "execute_result"
    }
   ],
   "source": [
    "top_k"
   ]
  },
  {
   "cell_type": "code",
   "execution_count": 20,
   "metadata": {},
   "outputs": [
    {
     "name": "stdout",
     "output_type": "stream",
     "text": [
      "Top-1 : 6.29%\n",
      "Top-5 : 11.56%\n",
      "Top-10 : 15.45%\n",
      "Top-20 : 20.65%\n"
     ]
    }
   ],
   "source": [
    "for key in top_k.keys():\n",
    "  acc = round(top_k[key]*100/len(y_test), 2)\n",
    "  print(f'Top-{key} : {acc}%')"
   ]
  },
  {
   "cell_type": "code",
   "execution_count": 24,
   "metadata": {},
   "outputs": [],
   "source": [
    "model2 = Sequential()\n",
    "\n",
    "model2.add(Masking(mask_value=[0] * 34, input_shape=x_train.shape[1:]))\n",
    "\n",
    "model2.add(SimpleRNN(10000, activation=\"relu\", input_shape=x_train.shape[1:], return_sequences=True))\n",
    "model2.add(Dropout(0.2))\n",
    "\n",
    "model2.add(SimpleRNN(10000, activation=\"relu\", input_shape=x_train.shape[1:], return_sequences=True))\n",
    "model2.add(Dropout(0.2))\n",
    "\n",
    "model2.add(SimpleRNN(10000, activation=\"relu\", input_shape=x_train.shape[1:], return_sequences=False))\n",
    "model2.add(Dropout(0.2))\n",
    "\n",
    "model2.add(Dense(7374, activation=\"softmax\", input_shape=x_train.shape[1:]))\n",
    "\n",
    "model2.compile(loss='mean_squared_error', optimizer='adam', metrics=['accuracy'])"
   ]
  },
  {
   "cell_type": "code",
   "execution_count": 25,
   "metadata": {},
   "outputs": [
    {
     "name": "stdout",
     "output_type": "stream",
     "text": [
      "Model: \"sequential_1\"\n",
      "_________________________________________________________________\n",
      " Layer (type)                Output Shape              Param #   \n",
      "=================================================================\n",
      " masking_1 (Masking)         (None, 15, 34)            0         \n",
      "                                                                 \n",
      " simple_rnn_3 (SimpleRNN)    (None, 15, 10000)         100350000 \n",
      "                                                                 \n",
      " dropout_3 (Dropout)         (None, 15, 10000)         0         \n",
      "                                                                 \n",
      " simple_rnn_4 (SimpleRNN)    (None, 15, 10000)         200010000 \n",
      "                                                                 \n",
      " dropout_4 (Dropout)         (None, 15, 10000)         0         \n",
      "                                                                 \n",
      " simple_rnn_5 (SimpleRNN)    (None, 10000)             200010000 \n",
      "                                                                 \n",
      " dropout_5 (Dropout)         (None, 10000)             0         \n",
      "                                                                 \n",
      " dense_1 (Dense)             (None, 7374)              73747374  \n",
      "                                                                 \n",
      "=================================================================\n",
      "Total params: 574,117,374\n",
      "Trainable params: 574,117,374\n",
      "Non-trainable params: 0\n",
      "_________________________________________________________________\n"
     ]
    }
   ],
   "source": [
    "model2.summary()"
   ]
  },
  {
   "cell_type": "code",
   "execution_count": 26,
   "metadata": {},
   "outputs": [
    {
     "name": "stdout",
     "output_type": "stream",
     "text": [
      "Epoch 1/10\n",
      "975/975 [==============================] - 13256s 14s/step - loss: 1.3559e-04 - accuracy: 0.0294 - val_loss: 1.3559e-04 - val_accuracy: 0.0639\n",
      "Epoch 2/10\n",
      "975/975 [==============================] - 12889s 13s/step - loss: 1.3558e-04 - accuracy: 0.0315 - val_loss: 1.3559e-04 - val_accuracy: 0.0140\n",
      "Epoch 3/10\n",
      "975/975 [==============================] - 12773s 13s/step - loss: 1.3559e-04 - accuracy: 0.0129 - val_loss: 1.3559e-04 - val_accuracy: 0.0195\n",
      "Epoch 4/10\n",
      "975/975 [==============================] - 12726s 13s/step - loss: 1.3559e-04 - accuracy: 0.0201 - val_loss: 1.3559e-04 - val_accuracy: 0.0388\n",
      "Epoch 5/10\n",
      "975/975 [==============================] - 12954s 13s/step - loss: 1.3559e-04 - accuracy: 0.0350 - val_loss: 1.3559e-04 - val_accuracy: 0.0639\n",
      "Epoch 6/10\n",
      "975/975 [==============================] - 13730s 14s/step - loss: 1.3559e-04 - accuracy: 0.0613 - val_loss: 1.3559e-04 - val_accuracy: 0.0639\n",
      "Epoch 7/10\n",
      "975/975 [==============================] - 13184s 14s/step - loss: 1.3559e-04 - accuracy: 0.0638 - val_loss: 1.3559e-04 - val_accuracy: 0.0639\n",
      "Epoch 8/10\n",
      "975/975 [==============================] - 12847s 13s/step - loss: 1.3559e-04 - accuracy: 0.0638 - val_loss: 1.3559e-04 - val_accuracy: 0.0639\n",
      "Epoch 9/10\n",
      "975/975 [==============================] - 12696s 13s/step - loss: 1.3558e-04 - accuracy: 0.0638 - val_loss: 1.3559e-04 - val_accuracy: 0.0639\n",
      "Epoch 10/10\n",
      "975/975 [==============================] - 12383s 13s/step - loss: 1.3558e-04 - accuracy: 0.0638 - val_loss: 1.3559e-04 - val_accuracy: 0.0639\n"
     ]
    },
    {
     "data": {
      "text/plain": [
       "<keras.callbacks.History at 0x7ff41d58a5b0>"
      ]
     },
     "execution_count": 26,
     "metadata": {},
     "output_type": "execute_result"
    }
   ],
   "source": [
    "model2.fit(x_train, y_train, epochs=10, validation_data=(x_val, y_val))"
   ]
  },
  {
   "cell_type": "code",
   "execution_count": 27,
   "metadata": {},
   "outputs": [],
   "source": [
    "pred2 = model2.predict(x_test)"
   ]
  },
  {
   "cell_type": "code",
   "execution_count": 28,
   "metadata": {},
   "outputs": [],
   "source": [
    "pred2_df = pd.DataFrame(pred2, columns=[str(i) for i in range(1, 7375)])\n",
    "pred2_df.to_csv('RNN_pred2.csv')"
   ]
  },
  {
   "cell_type": "code",
   "execution_count": 29,
   "metadata": {},
   "outputs": [],
   "source": [
    "top_k2 = {1:0, 5:0, 10:0, 20:0}"
   ]
  },
  {
   "cell_type": "code",
   "execution_count": 30,
   "metadata": {},
   "outputs": [],
   "source": [
    "i = 0\n",
    "for vector in pred2:\n",
    "  prob_vec = list(vector).copy()\n",
    "\n",
    "  prob_vec_sorted = prob_vec.copy()\n",
    "  prob_vec_sorted.sort(reverse=True)\n",
    "\n",
    "  top_20 = [prob_vec.index(prob) for prob in prob_vec_sorted[:20]]\n",
    "\n",
    "  label = list(y_test[i][0]).index(1)\n",
    "\n",
    "  i += 1\n",
    "  if(label in top_20[:1]):\n",
    "    top_k2[1] += 1\n",
    "    top_k2[5] += 1\n",
    "    top_k2[10] += 1\n",
    "    top_k2[20] += 1\n",
    "  elif(label in top_20[:5]):\n",
    "    top_k2[5] += 1\n",
    "    top_k2[10] += 1\n",
    "    top_k2[20] += 1\n",
    "  elif(label in top_20[:10]):\n",
    "    top_k2[10] += 1\n",
    "    top_k2[20] += 1\n",
    "  elif(label in top_20[:20]):\n",
    "    top_k2[20] += 1"
   ]
  },
  {
   "cell_type": "code",
   "execution_count": 31,
   "metadata": {},
   "outputs": [
    {
     "data": {
      "text/plain": [
       "{1: 613, 5: 1126, 10: 1529, 20: 2069}"
      ]
     },
     "execution_count": 31,
     "metadata": {},
     "output_type": "execute_result"
    }
   ],
   "source": [
    "top_k2"
   ]
  },
  {
   "cell_type": "code",
   "execution_count": 47,
   "metadata": {},
   "outputs": [
    {
     "name": "stdout",
     "output_type": "stream",
     "text": [
      "Top-1 : 6.29%\n",
      "Top-5 : 11.55%\n",
      "Top-10 : 15.69%\n",
      "Top-20 : 21.23%\n"
     ]
    }
   ],
   "source": [
    "for key in top_k2.keys():\n",
    "  acc = round(top_k2[key]*100/len(y_test), 2)\n",
    "  print(f'Top-{key} : {acc}%')"
   ]
  },
  {
   "cell_type": "code",
   "execution_count": 49,
   "metadata": {},
   "outputs": [],
   "source": [
    "model3 = Sequential()\n",
    "\n",
    "model3.add(Masking(mask_value=[0] * 34, input_shape=x_train.shape[1:]))\n",
    "\n",
    "model3.add(SimpleRNN(6000, activation=\"relu\", input_shape=x_train.shape[1:], return_sequences=True))\n",
    "model3.add(Dropout(0.2))\n",
    "\n",
    "model3.add(SimpleRNN(4000, activation=\"relu\", input_shape=x_train.shape[1:], return_sequences=True))\n",
    "model3.add(Dropout(0.2))\n",
    "\n",
    "model3.add(SimpleRNN(3000, activation=\"relu\", input_shape=x_train.shape[1:], return_sequences=False))\n",
    "model3.add(Dropout(0.2))\n",
    "\n",
    "model3.add(Dense(7374, activation=\"softmax\", input_shape=x_train.shape[1:]))\n",
    "\n",
    "model3.compile(loss='mean_squared_error', optimizer='adam', metrics=['accuracy'])"
   ]
  },
  {
   "cell_type": "code",
   "execution_count": 50,
   "metadata": {},
   "outputs": [
    {
     "name": "stdout",
     "output_type": "stream",
     "text": [
      "Model: \"sequential_4\"\n",
      "_________________________________________________________________\n",
      " Layer (type)                Output Shape              Param #   \n",
      "=================================================================\n",
      " masking_4 (Masking)         (None, 15, 34)            0         \n",
      "                                                                 \n",
      " simple_rnn_12 (SimpleRNN)   (None, 15, 6000)          36210000  \n",
      "                                                                 \n",
      " dropout_12 (Dropout)        (None, 15, 6000)          0         \n",
      "                                                                 \n",
      " simple_rnn_13 (SimpleRNN)   (None, 15, 4000)          40004000  \n",
      "                                                                 \n",
      " dropout_13 (Dropout)        (None, 15, 4000)          0         \n",
      "                                                                 \n",
      " simple_rnn_14 (SimpleRNN)   (None, 3000)              21003000  \n",
      "                                                                 \n",
      " dropout_14 (Dropout)        (None, 3000)              0         \n",
      "                                                                 \n",
      " dense_4 (Dense)             (None, 7374)              22129374  \n",
      "                                                                 \n",
      "=================================================================\n",
      "Total params: 119,346,374\n",
      "Trainable params: 119,346,374\n",
      "Non-trainable params: 0\n",
      "_________________________________________________________________\n"
     ]
    }
   ],
   "source": [
    "model3.summary()"
   ]
  },
  {
   "cell_type": "code",
   "execution_count": 51,
   "metadata": {},
   "outputs": [
    {
     "name": "stdout",
     "output_type": "stream",
     "text": [
      "Epoch 1/10\n",
      "975/975 [==============================] - 3393s 3s/step - loss: 1.3559e-04 - accuracy: 0.0090 - val_loss: 1.3559e-04 - val_accuracy: 0.0638\n",
      "Epoch 2/10\n",
      "975/975 [==============================] - 3317s 3s/step - loss: 1.3560e-04 - accuracy: 0.0624 - val_loss: 1.3559e-04 - val_accuracy: 0.0023\n",
      "Epoch 3/10\n",
      "975/975 [==============================] - 3260s 3s/step - loss: 1.3559e-04 - accuracy: 0.0023 - val_loss: 1.3559e-04 - val_accuracy: 0.0096\n",
      "Epoch 4/10\n",
      "975/975 [==============================] - 3277s 3s/step - loss: 1.3559e-04 - accuracy: 0.0079 - val_loss: 1.3559e-04 - val_accuracy: 0.0178\n",
      "Epoch 5/10\n",
      "975/975 [==============================] - 3286s 3s/step - loss: 1.3559e-04 - accuracy: 0.0153 - val_loss: 1.3559e-04 - val_accuracy: 0.0192\n",
      "Epoch 6/10\n",
      "975/975 [==============================] - 3215s 3s/step - loss: 1.3559e-04 - accuracy: 0.0191 - val_loss: 1.3559e-04 - val_accuracy: 0.0195\n",
      "Epoch 7/10\n",
      "975/975 [==============================] - 3223s 3s/step - loss: 1.3559e-04 - accuracy: 0.0202 - val_loss: 1.3559e-04 - val_accuracy: 0.0195\n",
      "Epoch 8/10\n",
      "975/975 [==============================] - 3231s 3s/step - loss: 1.3559e-04 - accuracy: 0.0205 - val_loss: 1.3559e-04 - val_accuracy: 0.0195\n",
      "Epoch 9/10\n",
      "975/975 [==============================] - 3292s 3s/step - loss: 1.3559e-04 - accuracy: 0.0205 - val_loss: 1.3559e-04 - val_accuracy: 0.0196\n",
      "Epoch 10/10\n",
      "975/975 [==============================] - 3284s 3s/step - loss: 1.3559e-04 - accuracy: 0.0221 - val_loss: 1.3559e-04 - val_accuracy: 0.0568\n"
     ]
    },
    {
     "data": {
      "text/plain": [
       "<keras.callbacks.History at 0x7ff02bb13730>"
      ]
     },
     "execution_count": 51,
     "metadata": {},
     "output_type": "execute_result"
    }
   ],
   "source": [
    "model3.fit(x_train, y_train, epochs=10, validation_data=(x_val, y_val))"
   ]
  },
  {
   "cell_type": "code",
   "execution_count": 52,
   "metadata": {},
   "outputs": [],
   "source": [
    "pred3 = model3.predict(x_test)"
   ]
  },
  {
   "cell_type": "code",
   "execution_count": 53,
   "metadata": {},
   "outputs": [],
   "source": [
    "top_k3 = {1:0, 5:0, 10:0, 20:0}"
   ]
  },
  {
   "cell_type": "code",
   "execution_count": 54,
   "metadata": {},
   "outputs": [],
   "source": [
    "i = 0\n",
    "for vector in pred3:\n",
    "  prob_vec = list(vector).copy()\n",
    "\n",
    "  prob_vec_sorted = prob_vec.copy()\n",
    "  prob_vec_sorted.sort(reverse=True)\n",
    "\n",
    "  top_20 = [prob_vec.index(prob) for prob in prob_vec_sorted[:20]]\n",
    "\n",
    "  label = list(y_test[i][0]).index(1)\n",
    "\n",
    "  i += 1\n",
    "  if(label in top_20[:1]):\n",
    "    top_k3[1] += 1\n",
    "    top_k3[5] += 1\n",
    "    top_k3[10] += 1\n",
    "    top_k3[20] += 1\n",
    "  elif(label in top_20[:5]):\n",
    "    top_k3[5] += 1\n",
    "    top_k3[10] += 1\n",
    "    top_k3[20] += 1\n",
    "  elif(label in top_20[:10]):\n",
    "    top_k3[10] += 1\n",
    "    top_k3[20] += 1\n",
    "  elif(label in top_20[:20]):\n",
    "    top_k3[20] += 1"
   ]
  },
  {
   "cell_type": "code",
   "execution_count": 55,
   "metadata": {},
   "outputs": [
    {
     "data": {
      "text/plain": [
       "{1: 542, 5: 1055, 10: 1525, 20: 1931}"
      ]
     },
     "execution_count": 55,
     "metadata": {},
     "output_type": "execute_result"
    }
   ],
   "source": [
    "top_k3"
   ]
  },
  {
   "cell_type": "code",
   "execution_count": 56,
   "metadata": {},
   "outputs": [
    {
     "name": "stdout",
     "output_type": "stream",
     "text": [
      "Top-1 : 5.56%\n",
      "Top-5 : 10.83%\n",
      "Top-10 : 15.65%\n",
      "Top-20 : 19.82%\n"
     ]
    }
   ],
   "source": [
    "for key in top_k3.keys():\n",
    "  acc = round(top_k3[key]*100/len(y_test), 2)\n",
    "  print(f'Top-{key} : {acc}%')"
   ]
  },
  {
   "cell_type": "code",
   "execution_count": null,
   "metadata": {},
   "outputs": [],
   "source": []
  }
 ],
 "metadata": {
  "interpreter": {
   "hash": "aee8b7b246df8f9039afb4144a1f6fd8d2ca17a180786b69acc140d282b71a49"
  },
  "kernelspec": {
   "display_name": "Python 3.9.0 64-bit",
   "name": "python3"
  },
  "language_info": {
   "codemirror_mode": {
    "name": "ipython",
    "version": 3
   },
   "file_extension": ".py",
   "mimetype": "text/x-python",
   "name": "python",
   "nbconvert_exporter": "python",
   "pygments_lexer": "ipython3",
   "version": "3.9.0"
  },
  "orig_nbformat": 4
 },
 "nbformat": 4,
 "nbformat_minor": 2
}
