{
  "nbformat": 4,
  "nbformat_minor": 0,
  "metadata": {
    "colab": {
      "name": "S3_connect.ipynb",
      "provenance": [],
      "collapsed_sections": []
    },
    "kernelspec": {
      "name": "python3",
      "display_name": "Python 3"
    },
    "language_info": {
      "name": "python"
    }
  },
  "cells": [
    {
      "cell_type": "code",
      "metadata": {
        "colab": {
          "base_uri": "https://localhost:8080/"
        },
        "id": "WuOiyeDxlZ5P",
        "outputId": "eb41881d-c246-4e20-dd16-a8f26d084b48"
      },
      "source": [
        "!pip3 install minio\n"
      ],
      "execution_count": 1,
      "outputs": [
        {
          "output_type": "stream",
          "name": "stdout",
          "text": [
            "Collecting minio\n",
            "  Downloading minio-7.1.1-py3-none-any.whl (75 kB)\n",
            "\u001b[?25l\r\u001b[K     |████▍                           | 10 kB 20.8 MB/s eta 0:00:01\r\u001b[K     |████████▊                       | 20 kB 27.2 MB/s eta 0:00:01\r\u001b[K     |█████████████                   | 30 kB 12.5 MB/s eta 0:00:01\r\u001b[K     |█████████████████▍              | 40 kB 10.0 MB/s eta 0:00:01\r\u001b[K     |█████████████████████▊          | 51 kB 4.5 MB/s eta 0:00:01\r\u001b[K     |██████████████████████████      | 61 kB 4.6 MB/s eta 0:00:01\r\u001b[K     |██████████████████████████████▍ | 71 kB 4.7 MB/s eta 0:00:01\r\u001b[K     |████████████████████████████████| 75 kB 2.2 MB/s \n",
            "\u001b[?25hRequirement already satisfied: certifi in /usr/local/lib/python3.7/dist-packages (from minio) (2021.5.30)\n",
            "Requirement already satisfied: urllib3 in /usr/local/lib/python3.7/dist-packages (from minio) (1.24.3)\n",
            "Installing collected packages: minio\n",
            "Successfully installed minio-7.1.1\n"
          ]
        }
      ]
    },
    {
      "cell_type": "code",
      "metadata": {
        "id": "lTagrSQuX3eB"
      },
      "source": [
        "from minio import Minio\n",
        "from minio.error import S3Error\n",
        "import json"
      ],
      "execution_count": 2,
      "outputs": []
    },
    {
      "cell_type": "code",
      "metadata": {
        "id": "B2K7HlClai8k"
      },
      "source": [
        "login=json.load(open('/content/credential.json'))"
      ],
      "execution_count": 3,
      "outputs": []
    },
    {
      "cell_type": "code",
      "metadata": {
        "id": "YY-0BmqsT_Eb"
      },
      "source": [
        "client = Minio(\n",
        "        \"s3.csc.uvic.ca:9000\",\n",
        "        access_key=login['console'][0]['access_key'].replace(u'\\xa0', u''),\n",
        "        secret_key=login['console'][0]['secret_key'].replace(u'\\xa0', u''),\n",
        "    )\n"
      ],
      "execution_count": 4,
      "outputs": []
    },
    {
      "cell_type": "code",
      "metadata": {
        "id": "iWROQm95dY55"
      },
      "source": [
        "test_obj=client.get_object(\"RawDataStorage\",\"example.json\")\n",
        "trainning_list={}\n",
        "ast_index=0\n",
        "for ast in test_obj:\n",
        "  trainning_list[ast_index]=json.loads(ast.decode('utf-8'))\n",
        "  ast_index+=1"
      ],
      "execution_count": 63,
      "outputs": []
    },
    {
      "cell_type": "code",
      "metadata": {
        "id": "AWhWGyDROG4W"
      },
      "source": [
        "trainning_list[i] # training dictionary with 100 ASTs where 0<i<100 denotes the ith example"
      ],
      "execution_count": null,
      "outputs": []
    }
  ]
}