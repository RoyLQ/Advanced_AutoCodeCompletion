{
  "nbformat": 4,
  "nbformat_minor": 0,
  "metadata": {
    "colab": {
      "name": "S3_connect.ipynb",
      "provenance": [],
      "collapsed_sections": []
    },
    "kernelspec": {
      "name": "python3",
      "display_name": "Python 3"
    },
    "language_info": {
      "name": "python"
    }
  },
  "cells": [
    {
      "cell_type": "code",
      "metadata": {
        "colab": {
          "base_uri": "https://localhost:8080/"
        },
        "id": "WuOiyeDxlZ5P",
        "outputId": "962e51cb-8151-4654-c03f-c7d9bc2d37c2"
      },
      "source": [
        "!pip3 install minio\n"
      ],
      "execution_count": 12,
      "outputs": [
        {
          "output_type": "stream",
          "name": "stdout",
          "text": [
            "Requirement already satisfied: minio in /usr/local/lib/python3.7/dist-packages (7.1.1)\n",
            "Requirement already satisfied: urllib3 in /usr/local/lib/python3.7/dist-packages (from minio) (1.24.3)\n",
            "Requirement already satisfied: certifi in /usr/local/lib/python3.7/dist-packages (from minio) (2021.5.30)\n"
          ]
        }
      ]
    },
    {
      "cell_type": "code",
      "metadata": {
        "id": "lTagrSQuX3eB"
      },
      "source": [
        "from minio import Minio\n",
        "from minio.error import S3Error\n",
        "import json"
      ],
      "execution_count": 50,
      "outputs": []
    },
    {
      "cell_type": "code",
      "metadata": {
        "id": "B2K7HlClai8k"
      },
      "source": [
        "login=json.load(open('/content/credential.json'))"
      ],
      "execution_count": 66,
      "outputs": []
    },
    {
      "cell_type": "code",
      "metadata": {
        "id": "YY-0BmqsT_Eb"
      },
      "source": [
        "client = Minio(\n",
        "        \"s3.csc.uvic.ca:9000\",\n",
        "        access_key=login['console'][0]['access_key'].replace(u'\\xa0', u''),\n",
        "        secret_key=login['console'][0]['secret_key'].replace(u'\\xa0', u''),\n",
        "    )\n"
      ],
      "execution_count": 67,
      "outputs": []
    },
    {
      "cell_type": "code",
      "metadata": {
        "id": "xlvHadddUAyD"
      },
      "source": [
        "test_obj=client.get_object(\"RawDataStorage\",\"example.json\")"
      ],
      "execution_count": 68,
      "outputs": []
    },
    {
      "cell_type": "code",
      "metadata": {
        "id": "iWROQm95dY55"
      },
      "source": [
        "for index in test_obj:\n",
        "  record=index\n",
        "  break"
      ],
      "execution_count": 69,
      "outputs": []
    },
    {
      "cell_type": "code",
      "metadata": {
        "id": "eAfwNy2_V3_E"
      },
      "source": [
        "json_obj = json.loads(record.decode('utf-8'))"
      ],
      "execution_count": 70,
      "outputs": []
    },
    {
      "cell_type": "code",
      "metadata": {
        "colab": {
          "base_uri": "https://localhost:8080/"
        },
        "id": "Sl2bC9G9V_Q0",
        "outputId": "97899b7d-612a-427b-cdea-16be4870e3a9"
      },
      "source": [
        "json_obj"
      ],
      "execution_count": 73,
      "outputs": [
        {
          "output_type": "execute_result",
          "data": {
            "text/plain": [
              "[{'children': [1, 4, 7, 10, 13, 16, 19], 'id': 0, 'type': 'Program'},\n",
              " {'children': [2], 'id': 1, 'type': 'VariableDeclaration'},\n",
              " {'children': [3],\n",
              "  'id': 2,\n",
              "  'type': 'VariableDeclarator',\n",
              "  'value': 'gTestfile'},\n",
              " {'id': 3, 'type': 'LiteralString', 'value': 'regress-472450-04.js'},\n",
              " {'children': [5], 'id': 4, 'type': 'VariableDeclaration'},\n",
              " {'children': [6],\n",
              "  'id': 5,\n",
              "  'type': 'VariableDeclarator',\n",
              "  'value': 'BUGNUMBER'},\n",
              " {'id': 6, 'type': 'LiteralNumber', 'value': '472450'},\n",
              " {'children': [8], 'id': 7, 'type': 'VariableDeclaration'},\n",
              " {'children': [9], 'id': 8, 'type': 'VariableDeclarator', 'value': 'summary'},\n",
              " {'id': 9,\n",
              "  'type': 'LiteralString',\n",
              "  'value': 'TM: Do not assert: StackBase(fp) + blockDepth == regs.sp'},\n",
              " {'children': [11], 'id': 10, 'type': 'VariableDeclaration'},\n",
              " {'children': [12], 'id': 11, 'type': 'VariableDeclarator', 'value': 'actual'},\n",
              " {'id': 12, 'type': 'LiteralString', 'value': ''},\n",
              " {'children': [14], 'id': 13, 'type': 'VariableDeclaration'},\n",
              " {'children': [15], 'id': 14, 'type': 'VariableDeclarator', 'value': 'expect'},\n",
              " {'id': 15, 'type': 'LiteralString', 'value': ''},\n",
              " {'children': [17], 'id': 16, 'type': 'ExpressionStatement'},\n",
              " {'children': [18], 'id': 17, 'type': 'CallExpression'},\n",
              " {'id': 18, 'type': 'Identifier', 'value': 'test'},\n",
              " {'children': [20, 21], 'id': 19, 'type': 'FunctionDeclaration'},\n",
              " {'id': 20, 'type': 'Identifier', 'value': 'test'},\n",
              " {'children': [22, 26, 30, 34, 38, 45, 52, 55, 59, 65],\n",
              "  'id': 21,\n",
              "  'type': 'BlockStatement'},\n",
              " {'children': [23], 'id': 22, 'type': 'ExpressionStatement'},\n",
              " {'children': [24, 25], 'id': 23, 'type': 'CallExpression'},\n",
              " {'id': 24, 'type': 'Identifier', 'value': 'enterFunc'},\n",
              " {'id': 25, 'type': 'LiteralString', 'value': 'test'},\n",
              " {'children': [27], 'id': 26, 'type': 'ExpressionStatement'},\n",
              " {'children': [28, 29], 'id': 27, 'type': 'CallExpression'},\n",
              " {'id': 28, 'type': 'Identifier', 'value': 'printBugNumber'},\n",
              " {'id': 29, 'type': 'Identifier', 'value': 'BUGNUMBER'},\n",
              " {'children': [31], 'id': 30, 'type': 'ExpressionStatement'},\n",
              " {'children': [32, 33], 'id': 31, 'type': 'CallExpression'},\n",
              " {'id': 32, 'type': 'Identifier', 'value': 'printStatus'},\n",
              " {'id': 33, 'type': 'Identifier', 'value': 'summary'},\n",
              " {'children': [35], 'id': 34, 'type': 'ExpressionStatement'},\n",
              " {'children': [36, 37], 'id': 35, 'type': 'CallExpression'},\n",
              " {'id': 36, 'type': 'Identifier', 'value': 'jit'},\n",
              " {'id': 37, 'type': 'LiteralBoolean', 'value': 'true'},\n",
              " {'children': [39], 'id': 38, 'type': 'ExpressionStatement'},\n",
              " {'children': [40], 'id': 39, 'type': 'ObjectExpression'},\n",
              " {'children': [41], 'id': 40, 'type': 'Property', 'value': '__proto__'},\n",
              " {'children': [42, 43], 'id': 41, 'type': 'AssignmentExpression'},\n",
              " {'id': 42, 'type': 'Identifier', 'value': '✖'},\n",
              " {'children': [44], 'id': 43, 'type': 'ArrayExpression'},\n",
              " {'id': 44, 'type': 'LiteralNumber', 'value': '1'},\n",
              " {'children': [46, 47], 'id': 45, 'type': 'FunctionDeclaration'},\n",
              " {'id': 46, 'type': 'Identifier', 'value': 'f'},\n",
              " {'children': [48], 'id': 47, 'type': 'BlockStatement'},\n",
              " {'children': [49], 'id': 48, 'type': 'ExpressionStatement'},\n",
              " {'children': [50, 51], 'id': 49, 'type': 'CallExpression'},\n",
              " {'id': 50, 'type': 'Identifier', 'value': 'eval'},\n",
              " {'id': 51,\n",
              "  'type': 'LiteralString',\n",
              "  'value': \"for (var y = 0; y < 1; ++y) { for each (let z in [null, function(){}, null, '', null, '', null]) { let x = 1, c = []; } }\"},\n",
              " {'children': [53], 'id': 52, 'type': 'ExpressionStatement'},\n",
              " {'children': [54], 'id': 53, 'type': 'CallExpression'},\n",
              " {'id': 54, 'type': 'Identifier', 'value': 'f'},\n",
              " {'children': [56], 'id': 55, 'type': 'ExpressionStatement'},\n",
              " {'children': [57, 58], 'id': 56, 'type': 'CallExpression'},\n",
              " {'id': 57, 'type': 'Identifier', 'value': 'jit'},\n",
              " {'id': 58, 'type': 'LiteralBoolean', 'value': 'false'},\n",
              " {'children': [60], 'id': 59, 'type': 'ExpressionStatement'},\n",
              " {'children': [61, 62, 63, 64], 'id': 60, 'type': 'CallExpression'},\n",
              " {'id': 61, 'type': 'Identifier', 'value': 'reportCompare'},\n",
              " {'id': 62, 'type': 'Identifier', 'value': 'expect'},\n",
              " {'id': 63, 'type': 'Identifier', 'value': 'actual'},\n",
              " {'id': 64, 'type': 'Identifier', 'value': 'summary'},\n",
              " {'children': [66], 'id': 65, 'type': 'ExpressionStatement'},\n",
              " {'children': [67, 68], 'id': 66, 'type': 'CallExpression'},\n",
              " {'id': 67, 'type': 'Identifier', 'value': 'exitFunc'},\n",
              " {'id': 68, 'type': 'LiteralString', 'value': 'test'},\n",
              " 0]"
            ]
          },
          "metadata": {},
          "execution_count": 73
        }
      ]
    }
  ]
}